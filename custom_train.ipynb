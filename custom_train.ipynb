{
 "cells": [
  {
   "cell_type": "code",
   "execution_count": 1,
   "metadata": {},
   "outputs": [],
   "source": [
    "import argparse\n",
    "import datetime\n",
    "import json\n",
    "import os\n",
    "from os.path import join\n",
    "\n",
    "import torch.utils.data as data\n",
    "\n",
    "import torch\n",
    "import torchvision.utils as vutils\n",
    "from attgan import AttGAN\n",
    "from data import check_attribute_conflict\n",
    "from helpers import Progressbar, add_scalar_dict\n",
    "from tensorboardX import SummaryWriter\n",
    "from custom_data_loader import *\n",
    "\n",
    "\n",
    "device = torch.device(\"cuda\") \n",
    "\n",
    "attrs_default = [\n",
    "    'Black_Hair', 'Blond_Hair', 'Straight_Hair', 'Wavy_Hair', 'Male' \n",
    "]"
   ]
  },
  {
   "cell_type": "code",
   "execution_count": null,
   "metadata": {},
   "outputs": [],
   "source": [
    "def custom_train(data_loader):\n",
    "    batch_images, batch_labels, batch_attrs = data_loader.get_batch(batch_size=16)\n",
    "\n",
    "    x_fixed, c_original = batch_images[0], torch.FloatTensor(batch_labels)\n",
    "    "
   ]
  }
 ],
 "metadata": {
  "kernelspec": {
   "display_name": "venv",
   "language": "python",
   "name": "python3"
  },
  "language_info": {
   "codemirror_mode": {
    "name": "ipython",
    "version": 3
   },
   "file_extension": ".py",
   "mimetype": "text/x-python",
   "name": "python",
   "nbconvert_exporter": "python",
   "pygments_lexer": "ipython3",
   "version": "3.10.9"
  },
  "orig_nbformat": 4
 },
 "nbformat": 4,
 "nbformat_minor": 2
}
